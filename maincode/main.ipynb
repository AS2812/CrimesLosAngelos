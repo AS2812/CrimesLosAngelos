{
 "cells": [
  {
   "cell_type": "markdown",
   "id": "5ab4ecad",
   "metadata": {},
   "source": [
    "# Los Angeles Crime Analysis\n",
    "\n",
    "![Los Angeles Crime Map](https://cdn.pixabay.com/photo/2016/08/05/08/36/los-angeles-1571740_1280.jpg)\n",
    "\n",
    "## Introduction\n",
    "\n",
    "This notebook analyzes crime data from the Los Angeles Police Department (LAPD) to identify patterns in criminal behavior. The insights from this analysis can help the LAPD allocate resources effectively to tackle various crimes in different areas of the city."
   ]
  },
  {
   "cell_type": "markdown",
   "id": "ecca50f7",
   "metadata": {},
   "source": [
    "## Data Loading and Initial Exploration\n",
    "\n",
    "We'll start by loading the crime data and examining its structure."
   ]
  },
  {
   "cell_type": "code",
   "execution_count": null,
   "id": "3ff3aa67",
   "metadata": {},
   "outputs": [],
   "source": [
    "# Import required libraries\n",
    "import pandas as pd\n",
    "import numpy as np\n",
    "import matplotlib.pyplot as plt\n",
    "import seaborn as sns\n",
    "import warnings\n",
    "\n",
    "# Set visualization style\n",
    "plt.style.use('seaborn-v0_8-whitegrid')\n",
    "sns.set_palette('viridis')\n",
    "warnings.filterwarnings('ignore')\n",
    "\n",
    "# Load the dataset\n",
    "crimes = pd.read_csv(\"crimes.csv\", dtype={\"TIME OCC\": str})\n",
    "\n",
    "# Display the first few rows\n",
    "crimes.head()"
   ]
  },
  {
   "cell_type": "code",
   "execution_count": null,
   "id": "5071ac43",
   "metadata": {},
   "outputs": [],
   "source": [
    "# Check basic information about the dataset\n",
    "print(f\"Dataset shape: {crimes.shape}\")\n",
    "print(\"\\nColumn data types:\")\n",
    "print(crimes.dtypes)\n",
    "print(\"\\nMissing values per column:\")\n",
    "print(crimes.isnull().sum())"
   ]
  },
  {
   "cell_type": "code",
   "execution_count": null,
   "id": "b13b47e4",
   "metadata": {},
   "outputs": [],
   "source": [
    "# Get a statistical summary of the dataset\n",
    "crimes.describe(include='all')"
   ]
  },
  {
   "cell_type": "markdown",
   "id": "f65872b9",
   "metadata": {},
   "source": [
    "## Data Cleaning and Preprocessing\n",
    "\n",
    "We'll now clean the data by handling missing values, removing duplicates, and addressing outliers."
   ]
  },
  {
   "cell_type": "code",
   "execution_count": null,
   "id": "dbe06b87",
   "metadata": {},
   "outputs": [],
   "source": [
    "# Check for duplicates\n",
    "duplicate_count = crimes.duplicated().sum()\n",
    "print(f\"Number of duplicate records: {duplicate_count}\")\n",
    "\n",
    "# Remove duplicates if any\n",
    "if duplicate_count > 0:\n",
    "    crimes = crimes.drop_duplicates()\n",
    "    print(f\"After removing duplicates, dataset shape: {crimes.shape}\")"
   ]
  },
  {
   "cell_type": "code",
   "execution_count": null,
   "id": "531ad23f",
   "metadata": {},
   "outputs": [],
   "source": [
    "# Convert date columns to datetime\n",
    "crimes['Date Rptd'] = pd.to_datetime(crimes['Date Rptd'])\n",
    "crimes['DATE OCC'] = pd.to_datetime(crimes['DATE OCC'])\n",
    "\n",
    "# Extract time components\n",
    "crimes['TIME OCC'] = crimes['TIME OCC'].str.zfill(4)  # Ensure 4 digits (e.g., '0900' instead of '900')\n",
    "crimes['Hour'] = crimes['TIME OCC'].str[:2].astype(int)\n",
    "crimes['Minute'] = crimes['TIME OCC'].str[2:].astype(int)\n",
    "\n",
    "# Define time periods\n",
    "conditions = [\n",
    "    (crimes['Hour'] >= 5) & (crimes['Hour'] < 12),\n",
    "    (crimes['Hour'] >= 12) & (crimes['Hour'] < 17),\n",
    "    (crimes['Hour'] >= 17) & (crimes['Hour'] < 22),\n",
    "    (crimes['Hour'] >= 22) | (crimes['Hour'] < 5)\n",
    "]\n",
    "choices = ['Morning', 'Afternoon', 'Evening', 'Night']\n",
    "crimes['Time_Period'] = np.select(conditions, choices, default='Unknown')\n",
    "\n",
    "# Check the distribution of time periods\n",
    "crimes['Time_Period'].value_counts()"
   ]
  },
  {
   "cell_type": "code",
   "execution_count": null,
   "id": "53093f92",
   "metadata": {},
   "outputs": [],
   "source": [
    "# Handle missing values\n",
    "# For weapon description, fill NaN with 'No Weapon'\n",
    "crimes['Weapon Desc'] = crimes['Weapon Desc'].fillna('No Weapon')\n",
    "\n",
    "# For victim demographics with missing values, mark as 'Unknown'\n",
    "crimes['Vict Sex'] = crimes['Vict Sex'].fillna('X')\n",
    "crimes['Vict Descent'] = crimes['Vict Descent'].fillna('X')\n",
    "\n",
    "# Check for outliers in victim age\n",
    "plt.figure(figsize=(10, 6))\n",
    "sns.boxplot(x=crimes['Vict Age'])\n",
    "plt.title('Boxplot of Victim Age')\n",
    "plt.show()\n",
    "\n",
    "# Statistical check for outliers\n",
    "q1 = crimes['Vict Age'].quantile(0.25)\n",
    "q3 = crimes['Vict Age'].quantile(0.75)\n",
    "iqr = q3 - q1\n",
    "lower_bound = q1 - 1.5 * iqr\n",
    "upper_bound = q3 + 1.5 * iqr\n",
    "\n",
    "print(f\"Victim Age - Lower bound: {lower_bound}, Upper bound: {upper_bound}\")\n",
    "age_outliers = ((crimes['Vict Age'] < lower_bound) | (crimes['Vict Age'] > upper_bound)).sum()\n",
    "print(f\"Number of outliers in Victim Age: {age_outliers}\")"
   ]
  },
  {
   "cell_type": "code",
   "execution_count": null,
   "id": "42545f5d",
   "metadata": {},
   "outputs": [],
   "source": [
    "# Handle outliers - cap at reasonable limits\n",
    "crimes['Vict Age'] = crimes['Vict Age'].clip(lower=0, upper=100)\n",
    "\n",
    "# Create age groups for analysis\n",
    "age_bins = [0, 17, 25, 34, 44, 54, 64, 100]\n",
    "age_labels = ['0-17', '18-25', '26-34', '35-44', '45-54', '55-64', '65+']\n",
    "crimes['Age Group'] = pd.cut(crimes['Vict Age'], bins=age_bins, labels=age_labels, right=False)\n",
    "\n",
    "# Check distribution of age groups\n",
    "crimes['Age Group'].value_counts().sort_index()"
   ]
  },
  {
   "cell_type": "markdown",
   "id": "c27e82c5",
   "metadata": {},
   "source": [
    "## Exploratory Data Analysis\n",
    "\n",
    "Now we'll explore patterns in the data through visualizations."
   ]
  },
  {
   "cell_type": "code",
   "execution_count": null,
   "id": "b52beea5",
   "metadata": {},
   "outputs": [],
   "source": [
    "# Crime frequency by hour\n",
    "plt.figure(figsize=(14, 6))\n",
    "hourly_crimes = crimes['Hour'].value_counts().sort_index()\n",
    "sns.barplot(x=hourly_crimes.index, y=hourly_crimes.values)\n",
    "plt.title('Crime Frequency by Hour of Day')\n",
    "plt.xlabel('Hour (24-hour format)')\n",
    "plt.ylabel('Number of Crimes')\n",
    "plt.xticks(range(0, 24))\n",
    "plt.grid(axis='y', alpha=0.3)\n",
    "plt.show()\n",
    "\n",
    "# Find the peak crime hour\n",
    "peak_crime_hour = hourly_crimes.idxmax()\n",
    "print(f\"Peak crime hour: {peak_crime_hour}:00 with {hourly_crimes.max()} crimes\")"
   ]
  },
  {
   "cell_type": "code",
   "execution_count": null,
   "id": "9c19bf61",
   "metadata": {},
   "outputs": [],
   "source": [
    "# Crime types distribution\n",
    "plt.figure(figsize=(12, 8))\n",
    "top_crimes = crimes['Crm Cd Desc'].value_counts().head(15)\n",
    "sns.barplot(x=top_crimes.values, y=top_crimes.index)\n",
    "plt.title('Top 15 Crime Types in Los Angeles')\n",
    "plt.xlabel('Number of Crimes')\n",
    "plt.tight_layout()\n",
    "plt.show()"
   ]
  },
  {
   "cell_type": "code",
   "execution_count": null,
   "id": "8a4d872d",
   "metadata": {},
   "outputs": [],
   "source": [
    "# Night crimes analysis (10pm to 3:59am)\n",
    "night_crimes = crimes[(crimes['Hour'] >= 22) | (crimes['Hour'] < 4)]\n",
    "night_crime_locations = night_crimes['AREA NAME'].value_counts()\n",
    "\n",
    "plt.figure(figsize=(12, 8))\n",
    "sns.barplot(x=night_crime_locations.values[:10], y=night_crime_locations.index[:10])\n",
    "plt.title('Top 10 Areas with Night Crimes (10pm - 3:59am)')\n",
    "plt.xlabel('Number of Night Crimes')\n",
    "plt.tight_layout()\n",
    "plt.show()\n",
    "\n",
    "# Find the location with the most night crimes\n",
    "peak_night_crime_location = night_crime_locations.idxmax()\n",
    "print(f\"Area with most night crimes: {peak_night_crime_location} with {night_crime_locations.max()} crimes\")"
   ]
  },
  {
   "cell_type": "code",
   "execution_count": null,
   "id": "1b9740b3",
   "metadata": {},
   "outputs": [],
   "source": [
    "# Crime analysis by victim demographics\n",
    "plt.figure(figsize=(14, 10))\n",
    "\n",
    "# Subplot for victim age groups\n",
    "plt.subplot(2, 2, 1)\n",
    "victim_ages = crimes['Age Group'].value_counts().sort_index()\n",
    "sns.barplot(x=victim_ages.index, y=victim_ages.values)\n",
    "plt.title('Crimes by Victim Age Group')\n",
    "plt.xticks(rotation=45)\n",
    "plt.ylabel('Number of Crimes')\n",
    "\n",
    "# Subplot for victim sex\n",
    "plt.subplot(2, 2, 2)\n",
    "sex_map = {'F': 'Female', 'M': 'Male', 'X': 'Unknown'}\n",
    "crimes['Vict Sex Desc'] = crimes['Vict Sex'].map(sex_map)\n",
    "sex_counts = crimes['Vict Sex Desc'].value_counts()\n",
    "sns.barplot(x=sex_counts.index, y=sex_counts.values)\n",
    "plt.title('Crimes by Victim Sex')\n",
    "plt.ylabel('Number of Crimes')\n",
    "\n",
    "# Subplot for top victim descents\n",
    "plt.subplot(2, 2, 3)\n",
    "descent_counts = crimes['Vict Descent'].value_counts().head(8)\n",
    "sns.barplot(x=descent_counts.index, y=descent_counts.values)\n",
    "plt.title('Top 8 Victim Descents')\n",
    "plt.ylabel('Number of Crimes')\n",
    "\n",
    "plt.tight_layout()\n",
    "plt.show()"
   ]
  },
  {
   "cell_type": "markdown",
   "id": "d4f4ba4e",
   "metadata": {},
   "source": [
    "## Answering the Specific Questions\n",
    "\n",
    "Now we'll answer the specific questions requested in the analysis."
   ]
  },
  {
   "cell_type": "code",
   "execution_count": null,
   "id": "a06e4f07",
   "metadata": {},
   "outputs": [],
   "source": [
    "# Question 1: Which hour has the highest frequency of crimes?\n",
    "peak_crime_hour = hourly_crimes.idxmax()\n",
    "print(f\"Peak crime hour: {peak_crime_hour} (integer variable)\")\n",
    "\n",
    "# Question 2: Which area has the largest frequency of night crimes (10pm-3:59am)?\n",
    "peak_night_crime_location = night_crime_locations.idxmax()\n",
    "print(f\"Peak night crime location: '{peak_night_crime_location}' (string variable)\")\n",
    "\n",
    "# Question 3: Identify the number of crimes committed against victims of different age groups\n",
    "victim_ages = crimes['Age Group'].value_counts().sort_index()\n",
    "print(\"\\nVictim ages by age group (pandas Series):\")\n",
    "print(victim_ages)"
   ]
  },
  {
   "cell_type": "code",
   "execution_count": null,
   "id": "e061a9a9",
   "metadata": {},
   "outputs": [],
   "source": [
    "# Create variables in the required format\n",
    "peak_crime_hour = int(hourly_crimes.idxmax())\n",
    "peak_night_crime_location = night_crime_locations.idxmax()\n",
    "victim_ages = crimes['Age Group'].value_counts().sort_index()\n",
    "\n",
    "# Verify variable types\n",
    "print(f\"Type of peak_crime_hour: {type(peak_crime_hour)}\")\n",
    "print(f\"Type of peak_night_crime_location: {type(peak_night_crime_location)}\")\n",
    "print(f\"Type of victim_ages: {type(victim_ages)}\")"
   ]
  },
  {
   "cell_type": "markdown",
   "id": "89962fef",
   "metadata": {},
   "source": [
    "## Conclusion\n",
    "\n",
    "From our analysis of Los Angeles crime data, we've discovered several key insights:\n",
    "\n",
    "1. The peak hour for crimes is during the afternoon/evening hours.\n",
    "2. Specific areas in LA experience higher rates of night crimes, which could inform patrol allocations.\n",
    "3. There are distinct patterns in the age distribution of crime victims, with certain age groups being more vulnerable.\n",
    "\n",
    "These findings can help the LAPD allocate resources more effectively to address crime patterns in different areas and protect vulnerable populations."
   ]
  }
 ],
 "metadata": {
  "kernelspec": {
   "display_name": "base",
   "language": "python",
   "name": "python3"
  },
  "language_info": {
   "name": "python",
   "version": "3.12.7"
  }
 },
 "nbformat": 4,
 "nbformat_minor": 5
}
